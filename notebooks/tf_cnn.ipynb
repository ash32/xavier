{
 "cells": [
  {
   "cell_type": "code",
   "execution_count": 12,
   "metadata": {},
   "outputs": [],
   "source": [
    "import tensorflow as tf\n",
    "import numpy as np\n",
    "\n",
    "def reset_graph(seed=42):\n",
    "    tf.reset_default_graph()\n",
    "    tf.set_random_seed(seed)\n",
    "    np.random.seed(seed)"
   ]
  },
  {
   "cell_type": "code",
   "execution_count": 6,
   "metadata": {},
   "outputs": [],
   "source": [
    "from IPython.display import clear_output, Image, display, HTML\n",
    "\n",
    "def strip_consts(graph_def, max_const_size=32):\n",
    "    \"\"\"Strip large constant values from graph_def.\"\"\"\n",
    "    strip_def = tf.GraphDef()\n",
    "    for n0 in graph_def.node:\n",
    "        n = strip_def.node.add() \n",
    "        n.MergeFrom(n0)\n",
    "        if n.op == 'Const':\n",
    "            tensor = n.attr['value'].tensor\n",
    "            size = len(tensor.tensor_content)\n",
    "            if size > max_const_size:\n",
    "                tensor.tensor_content = \"<stripped %d bytes>\"%size\n",
    "    return strip_def\n",
    "\n",
    "def show_graph(graph_def, max_const_size=32):\n",
    "    \"\"\"Visualize TensorFlow graph.\"\"\"\n",
    "    if hasattr(graph_def, 'as_graph_def'):\n",
    "        graph_def = graph_def.as_graph_def()\n",
    "    strip_def = strip_consts(graph_def, max_const_size=max_const_size)\n",
    "    code = \"\"\"\n",
    "        <script>\n",
    "          function load() {{\n",
    "            document.getElementById(\"{id}\").pbtxt = {data};\n",
    "          }}\n",
    "        </script>\n",
    "        <link rel=\"import\" href=\"https://tensorboard.appspot.com/tf-graph-basic.build.html\" onload=load()>\n",
    "        <div style=\"height:600px\">\n",
    "          <tf-graph-basic id=\"{id}\"></tf-graph-basic>\n",
    "        </div>\n",
    "    \"\"\".format(data=repr(str(strip_def)), id='graph'+str(np.random.rand()))\n",
    "\n",
    "    iframe = \"\"\"\n",
    "        <iframe seamless style=\"width:1200px;height:620px;border:0\" srcdoc=\"{}\"></iframe>\n",
    "    \"\"\".format(code.replace('\"', '&quot;'))\n",
    "    display(HTML(iframe))"
   ]
  },
  {
   "cell_type": "code",
   "execution_count": 42,
   "metadata": {},
   "outputs": [],
   "source": [
    "num_assets = 3\n",
    "num_periods = 5"
   ]
  },
  {
   "cell_type": "code",
   "execution_count": 70,
   "metadata": {},
   "outputs": [],
   "source": [
    "reset_graph()\n",
    "\n",
    "with tf.name_scope('inputs'):\n",
    "    X = tf.placeholder(tf.float32, shape=(1, None, num_assets, 3), name='X')\n",
    "    y = tf.placeholder(tf.float32, shape=(None, num_assets+1), name='y')\n",
    "    # w = tf.placeholder(tf.float32, shape=(1, num_assets, None, 3), name='w')\n",
    "\n",
    "with tf.name_scope('cnn'):\n",
    "    kernel_height1 = 3\n",
    "    conv1 = tf.layers.conv2d(X, filters=2, kernel_size=(kernel_height1, 1), name='conv1')\n",
    "    relu1 = tf.nn.relu(conv1)\n",
    "\n",
    "    kernel_height2 = num_periods - kernel_width1 + 1\n",
    "    conv2 = tf.layers.conv2d(relu1, filters=20, kernel_size=(kernel_height2, 1), name='conv2')\n",
    "    relu2 = tf.nn.relu(conv2)\n",
    "\n",
    "    conv3 = tf.layers.conv2d(relu2, filters=1, kernel_size=(1, 1), name='conv3')\n",
    "\n",
    "with tf.name_scope('output'):\n",
    "    cash_bias = tf.Variable([0.], name='cash_bias')\n",
    "\n",
    "    squeezed = tf.squeeze(conv3)\n",
    "    bias_broadcast = tf.expand_dims(tf.tile(cash_bias, tf.shape(squeezed)[:1]), 1)\n",
    "    \n",
    "    stacked = tf.concat([bias_broadcast, squeezed], axis=1, name='logits')\n",
    "    output = tf.nn.softmax(stacked, name='portfolio_weights')\n",
    "    \n",
    "with tf.name_scope('reward'):\n",
    "    trial_rewards = tf.log(tf.reduce_sum(tf.multiply(output, y), axis=1))\n",
    "    total_reward = tf.reduce_sum(trial_rewards)\n",
    "    \n",
    "with tf.name_scope('train'):\n",
    "    optimizer = tf.train.AdamOptimizer()\n",
    "    training_op = optimizer.minimize(-total_reward)\n",
    "    \n",
    "with tf.name_scope('init_and_save'):\n",
    "    init = tf.global_variables_initializer()\n",
    "    saver = tf.train.Saver()"
   ]
  },
  {
   "cell_type": "code",
   "execution_count": 71,
   "metadata": {},
   "outputs": [],
   "source": [
    "# show_graph(tf.get_default_graph().as_graph_def())"
   ]
  },
  {
   "cell_type": "code",
   "execution_count": 95,
   "metadata": {},
   "outputs": [],
   "source": [
    "x_val = np.random.rand(1,num_periods+3,num_assets,3)\n",
    "y_val = np.random.rand(4,num_assets+1)\n",
    "\n",
    "with tf.Session() as sess:\n",
    "    init.run()\n",
    "    val = sess.run([output, trial_rewards, total_reward], feed_dict={X: x_val, y:y_val})"
   ]
  },
  {
   "cell_type": "code",
   "execution_count": 96,
   "metadata": {
    "scrolled": false
   },
   "outputs": [
    {
     "data": {
      "text/plain": [
       "[array([[ 0.28270409,  0.22856653,  0.26901469,  0.21971476],\n",
       "        [ 0.27958262,  0.24038042,  0.25847316,  0.22156383],\n",
       "        [ 0.26706192,  0.2440877 ,  0.25408688,  0.23476355],\n",
       "        [ 0.27921495,  0.22792666,  0.24089487,  0.25196344]], dtype=float32),\n",
       " array([-0.58605945, -0.7735647 , -0.53787613, -0.25743803], dtype=float32),\n",
       " -2.1549382]"
      ]
     },
     "execution_count": 96,
     "metadata": {},
     "output_type": "execute_result"
    }
   ],
   "source": [
    "val"
   ]
  },
  {
   "cell_type": "code",
   "execution_count": null,
   "metadata": {},
   "outputs": [],
   "source": []
  }
 ],
 "metadata": {
  "kernelspec": {
   "display_name": "Python 3",
   "language": "python",
   "name": "python3"
  },
  "language_info": {
   "codemirror_mode": {
    "name": "ipython",
    "version": 3
   },
   "file_extension": ".py",
   "mimetype": "text/x-python",
   "name": "python",
   "nbconvert_exporter": "python",
   "pygments_lexer": "ipython3",
   "version": "3.6.3"
  }
 },
 "nbformat": 4,
 "nbformat_minor": 2
}
