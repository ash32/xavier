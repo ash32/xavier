{
 "cells": [
  {
   "cell_type": "code",
   "execution_count": 1,
   "metadata": {},
   "outputs": [
    {
     "name": "stdout",
     "output_type": "stream",
     "text": [
      "/Users/AshTop/xavier/test\n"
     ]
    }
   ],
   "source": [
    "cd ../test"
   ]
  },
  {
   "cell_type": "code",
   "execution_count": 4,
   "metadata": {},
   "outputs": [],
   "source": [
    "from datetime import datetime\n",
    "import pandas as pd\n",
    "df_path = 'test_df.csv'\n",
    "df = pd.read_csv(df_path, index_col=0)\n",
    "df.index = df.index.map(lambda x: datetime.strptime(x, \"%Y-%m-%d %H:%M:%S\"))\n",
    "\n",
    "df = df.dropna().iloc[:,0::3]\n",
    "df"
   ]
  },
  {
   "cell_type": "code",
   "execution_count": 15,
   "metadata": {},
   "outputs": [
    {
     "data": {
      "text/plain": [
       "array([[ 1.00273365,  0.99870644],\n",
       "       [ 1.0032634 ,  1.01108109],\n",
       "       [ 1.00046022,  0.99579985],\n",
       "       [ 0.99621207,  0.99413167],\n",
       "       [ 1.00742857,  1.00413392],\n",
       "       [ 1.00258081,  0.98977663],\n",
       "       [ 0.99682219,  0.99670178],\n",
       "       [ 0.99956595,  1.00651863],\n",
       "       [ 1.00000659,  0.99380573],\n",
       "       [ 0.9952058 ,  1.00437772],\n",
       "       [ 0.99600827,  0.99462005],\n",
       "       [ 0.99807496,  1.00054696],\n",
       "       [ 0.998939  ,  0.99786643],\n",
       "       [ 1.00098118,  0.99916565],\n",
       "       [ 0.99505083,  0.99878293]])"
      ]
     },
     "execution_count": 15,
     "metadata": {},
     "output_type": "execute_result"
    }
   ],
   "source": [
    "df.values[1:]/df.values[:-1]"
   ]
  },
  {
   "cell_type": "code",
   "execution_count": 16,
   "metadata": {},
   "outputs": [],
   "source": [
    "np.save('closing_prices_rel_vec', _)"
   ]
  },
  {
   "cell_type": "code",
   "execution_count": 14,
   "metadata": {},
   "outputs": [],
   "source": [
    "import numpy as np"
   ]
  },
  {
   "cell_type": "code",
   "execution_count": 18,
   "metadata": {},
   "outputs": [
    {
     "data": {
      "text/plain": [
       "array([[ 1.00273365,  0.99870644],\n",
       "       [ 1.0032634 ,  1.01108109],\n",
       "       [ 1.00046022,  0.99579985],\n",
       "       [ 0.99621207,  0.99413167],\n",
       "       [ 1.00742857,  1.00413392],\n",
       "       [ 1.00258081,  0.98977663],\n",
       "       [ 0.99682219,  0.99670178],\n",
       "       [ 0.99956595,  1.00651863],\n",
       "       [ 1.00000659,  0.99380573],\n",
       "       [ 0.9952058 ,  1.00437772],\n",
       "       [ 0.99600827,  0.99462005],\n",
       "       [ 0.99807496,  1.00054696],\n",
       "       [ 0.998939  ,  0.99786643],\n",
       "       [ 1.00098118,  0.99916565],\n",
       "       [ 0.99505083,  0.99878293]])"
      ]
     },
     "execution_count": 18,
     "metadata": {},
     "output_type": "execute_result"
    }
   ],
   "source": [
    "np.load('closing_prices_rel_vec.npy')"
   ]
  },
  {
   "cell_type": "code",
   "execution_count": null,
   "metadata": {},
   "outputs": [],
   "source": []
  }
 ],
 "metadata": {
  "kernelspec": {
   "display_name": "Python3 (xavier)",
   "language": "python",
   "name": "xavier"
  },
  "language_info": {
   "codemirror_mode": {
    "name": "ipython",
    "version": 3
   },
   "file_extension": ".py",
   "mimetype": "text/x-python",
   "name": "python",
   "nbconvert_exporter": "python",
   "pygments_lexer": "ipython3",
   "version": "3.6.3"
  }
 },
 "nbformat": 4,
 "nbformat_minor": 2
}
